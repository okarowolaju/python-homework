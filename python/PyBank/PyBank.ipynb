{
 "cells": [
  {
   "cell_type": "code",
   "execution_count": 85,
   "metadata": {},
   "outputs": [
    {
     "name": "stdout",
     "output_type": "stream",
     "text": [
      "Financial Analysis \n",
      "---------------------\n",
      "Total Months: 86\n",
      "Total: $38382578\n",
      "Average Change: $-2315.12\n",
      "Greatest Increase in Profits: [['Feb-2012' 1926159.0]]\n",
      "Greatest Decrease in Profits: [['Sep-2013' -2196167.0]]\n"
     ]
    }
   ],
   "source": [
    "#import pandas for easy way to read csv\n",
    "import pandas as pd\n",
    "\n",
    "\n",
    "#load csv into a variable called budget_data\n",
    "budget_data = pd.read_csv(\"budget_data.csv\")\n",
    "\n",
    "#count the number of total months and find the net total pnl \n",
    "total_months = budget_data[\"Date\"].count()\n",
    "net_total_pnl = sum(budget_data[\"Profit/Losses\"])\n",
    "\n",
    "#find the average in price changes month over month\n",
    "differences = budget_data[\"Profit/Losses\"].diff()\n",
    "average_price_change = differences.mean().round(2) #/ total_months\n",
    "\n",
    "#copy the csv data to manupulate it \n",
    "df = budget_data\n",
    "\n",
    "#set p/l column to differences \n",
    "df[\"Profit/Losses\"] = differences\n",
    "\n",
    "#find the greatest gain and loss month over month \n",
    "greatest_gain = df[df['Profit/Losses']==df['Profit/Losses'].max()].values\n",
    "greatest_loss = df[df['Profit/Losses']==df['Profit/Losses'].min()].values\n",
    "\n",
    "\n",
    "print(\"Financial Analysis \\n---------------------\")\n",
    "\n",
    "print(f\"Total Months: {total_months}\")\n",
    "print(f\"Total: ${net_total_pnl}\")\n",
    "print(f\"Average Change: ${average_price_change}\")\n",
    "print(f\"Greatest Increase in Profits: {greatest_gain}\")\n",
    "print(f\"Greatest Decrease in Profits: {greatest_loss}\")\n",
    "\n"
   ]
  },
  {
   "cell_type": "code",
   "execution_count": null,
   "metadata": {},
   "outputs": [],
   "source": []
  },
  {
   "cell_type": "code",
   "execution_count": null,
   "metadata": {},
   "outputs": [],
   "source": []
  },
  {
   "cell_type": "code",
   "execution_count": null,
   "metadata": {},
   "outputs": [],
   "source": []
  }
 ],
 "metadata": {
  "kernelspec": {
   "display_name": "Python 3",
   "language": "python",
   "name": "python3"
  },
  "language_info": {
   "codemirror_mode": {
    "name": "ipython",
    "version": 3
   },
   "file_extension": ".py",
   "mimetype": "text/x-python",
   "name": "python",
   "nbconvert_exporter": "python",
   "pygments_lexer": "ipython3",
   "version": "3.8.3"
  }
 },
 "nbformat": 4,
 "nbformat_minor": 4
}
