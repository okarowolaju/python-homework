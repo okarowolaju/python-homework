{
 "cells": [
  {
   "cell_type": "code",
   "execution_count": 20,
   "metadata": {},
   "outputs": [],
   "source": [
    "# %load PyRamen.py\n",
    "\"\"\"PyRamen Homework Completed.\"\"\"\n",
    "\n",
    "import csv\n",
    "from pathlib import Path\n",
    "\n",
    "menu_filepath = Path('Resources/menu_data.csv')\n",
    "sales_filepath = Path('Resources/sales_data.csv')\n",
    "\n",
    "menu = []\n",
    "sales = []\n",
    "\n",
    "with open(menu_filepath, newline='') as menu_filepath:\n",
    "    reader = csv.reader(menu_filepath)\n",
    "    next(reader)\n",
    "    for line in reader:\n",
    "        menu.append(line)\n",
    "\n",
    "with open(sales_filepath, newline='') as sales_filepath:\n",
    "    reader = csv.reader(sales_filepath)\n",
    "    next(reader)\n",
    "    for line in reader:\n",
    "        sales.append(line)\n",
    "\n",
    "report = {}\n",
    "\n",
    "row_count = 0\n",
    "\n",
    "for i in sales:\n",
    "    Quantity = int(i[3])\n",
    "    Menu_Item = i[4]\n",
    "    \n",
    "    if Menu_Item not in report:\n",
    "        report[Menu_Item] = {\"01-count\": 0, \"02-revenue\": 0, \"03-cogs\": 0, \"04-profit\": 0}  \n",
    "    \n",
    "    for j in menu:\n",
    "        if Menu_Item == j[0]:\n",
    "            \n",
    "            Item = j[0]\n",
    "            Price = int(j[3])\n",
    "            Cost = int(j[4])\n",
    "            Profit = Price - Cost\n",
    "            \n",
    "            report[Menu_Item][\"01-count\"] += Quantity\n",
    "            report[Menu_Item][\"02-revenue\"] += Price * Quantity\n",
    "            report[Menu_Item][\"03-cogs\"] += Cost * Quantity\n",
    "            report[Menu_Item][\"04-profit\"] += Profit * Quantity\n",
    "                \n",
    "            \n",
    "with open('report.txt', 'w') as f:\n",
    "    print(report, file=f)\n",
    "\n",
    "\n",
    "\n",
    "\n"
   ]
  },
  {
   "cell_type": "code",
   "execution_count": null,
   "metadata": {},
   "outputs": [],
   "source": []
  },
  {
   "cell_type": "code",
   "execution_count": null,
   "metadata": {},
   "outputs": [],
   "source": []
  }
 ],
 "metadata": {
  "kernelspec": {
   "display_name": "Python 3",
   "language": "python",
   "name": "python3"
  },
  "language_info": {
   "codemirror_mode": {
    "name": "ipython",
    "version": 3
   },
   "file_extension": ".py",
   "mimetype": "text/x-python",
   "name": "python",
   "nbconvert_exporter": "python",
   "pygments_lexer": "ipython3",
   "version": "3.8.3"
  }
 },
 "nbformat": 4,
 "nbformat_minor": 4
}
